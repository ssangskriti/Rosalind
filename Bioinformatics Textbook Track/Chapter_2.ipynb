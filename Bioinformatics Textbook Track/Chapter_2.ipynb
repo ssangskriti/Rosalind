{
 "cells": [
  {
   "cell_type": "markdown",
   "metadata": {},
   "source": [
    "# Implement MotifEnumeration"
   ]
  },
  {
   "cell_type": "code",
   "execution_count": null,
   "metadata": {},
   "outputs": [],
   "source": []
  },
  {
   "cell_type": "markdown",
   "metadata": {},
   "source": [
    "# Find a Median String"
   ]
  },
  {
   "cell_type": "code",
   "execution_count": null,
   "metadata": {},
   "outputs": [],
   "source": []
  },
  {
   "cell_type": "markdown",
   "metadata": {},
   "source": [
    "# Find a Profile-most Probable k-mer in a String"
   ]
  },
  {
   "cell_type": "code",
   "execution_count": 11,
   "metadata": {},
   "outputs": [
    {
     "name": "stdout",
     "output_type": "stream",
     "text": [
      "GGCTTGCATTTCTGGTAAAAGAGCAGACATAGACACCAAGAAGGAGAAATTTATTTATTTGCAGGGGACAGAACTTTCGCAACGTTGATCTACTCTCTGAACTAGTGCTCCACTCAGGCTGTTTACCATTCAGAACGTTTTACTCAGCTGACCAGTAAAGAGTTAAATTAGTACGACACACCGCGTACGCGATTGGGCCC\n",
      "6\n",
      "0.273 0.121 0.242 0.273 0.242 0.333 0.242 0.242 0.333 0.182 0.242 0.091 0.212 0.303 0.273 0.424 0.303 0.333 0.273 0.333 0.152 0.121 0.212 0.242\n",
      "TTCGCA\n"
     ]
    }
   ],
   "source": [
    "string = input()\n",
    "k = int(input())\n",
    "matrix = input()\n",
    "matrix = matrix.split()\n",
    "matrix = [float(x) for x in matrix]\n",
    "profile = []\n",
    "for i in range(0,4):\n",
    "    listy = []\n",
    "    for j in range(0,k):\n",
    "        n = matrix[i*k+j]\n",
    "        listy.append(n)\n",
    "    profile.append(listy)\n",
    "# print(profile)\n",
    "listy = {}\n",
    "for i in range(0, len(string)-k):\n",
    "    s = string[i:i+k]\n",
    "    n = 1\n",
    "    for j in range(0,len(s)):\n",
    "        if s[j] == 'A':\n",
    "            n *= profile[0][j]\n",
    "        elif s[j] == 'C':\n",
    "            n *= profile[1][j]\n",
    "        elif s[j] == 'G':\n",
    "            n *= profile[2][j]\n",
    "        elif s[j] == 'T':\n",
    "            n *= profile[3][j]\n",
    "    listy[s] = n\n",
    "\n",
    "maxim = max(list(listy.values()))\n",
    "            \n",
    "# print(maxim)\n",
    "            \n",
    "for key,value in listy.items():\n",
    "    if listy[key] ==maxim:\n",
    "        print(key)\n",
    "        break\n"
   ]
  },
  {
   "cell_type": "code",
   "execution_count": null,
   "metadata": {},
   "outputs": [],
   "source": []
  },
  {
   "cell_type": "code",
   "execution_count": null,
   "metadata": {},
   "outputs": [],
   "source": []
  },
  {
   "cell_type": "code",
   "execution_count": null,
   "metadata": {},
   "outputs": [],
   "source": []
  },
  {
   "cell_type": "code",
   "execution_count": null,
   "metadata": {},
   "outputs": [],
   "source": []
  }
 ],
 "metadata": {
  "kernelspec": {
   "display_name": "Python 3",
   "language": "python",
   "name": "python3"
  },
  "language_info": {
   "codemirror_mode": {
    "name": "ipython",
    "version": 3
   },
   "file_extension": ".py",
   "mimetype": "text/x-python",
   "name": "python",
   "nbconvert_exporter": "python",
   "pygments_lexer": "ipython3",
   "version": "3.6.7"
  }
 },
 "nbformat": 4,
 "nbformat_minor": 2
}
